{
 "cells": [
  {
   "cell_type": "markdown",
   "metadata": {},
   "source": [
    "# Satoshi Nakamoto's secret phrase \n",
    "Satoshi Nakamoto's secret phrase is hidden in a field in the only transaction in the **Genesis block**. \n",
    "## Instructions\n",
    "This Jupyter notebook is for running in the same host that is running bitcoin core. Just remember to change the variables `rpcuser` and `rpcpassword` with your values. They are usually in the `bitcoin.conf` file. \n"
   ]
  },
  {
   "cell_type": "markdown",
   "metadata": {},
   "source": [
    "### Imports\n",
    "A quick note about `AuthServiceProxy()`: In Antonopoulo's book he uses `RawProxy()` instead of `AuthServiceProxy()`. That is\tquicker and does not need a password but `from bitcoin.rpc import RawProxy` does not work, probably due to some updates in bitcoin core and the libraries."
   ]
  },
  {
   "cell_type": "code",
   "execution_count": 1,
   "metadata": {},
   "outputs": [],
   "source": [
    "# from bitcoin.rpc import RawProxy\n",
    "from bitcoinrpc.authproxy import AuthServiceProxy\n",
    "import codecs\n",
    "import pprint"
   ]
  },
  {
   "cell_type": "markdown",
   "metadata": {},
   "source": [
    "### Connection to bitcoin core"
   ]
  },
  {
   "cell_type": "code",
   "execution_count": 2,
   "metadata": {},
   "outputs": [],
   "source": [
    "# REMEMBER to use your own values here.\n",
    "rpcuser = 'YOUR_USER_NAME'\n",
    "rpcpassword = 'YOUR_PASSWORD'\n",
    "p = AuthServiceProxy(\"http://%s:%s@127.0.0.1:8332\"%(rpcuser, rpcpassword))"
   ]
  },
  {
   "cell_type": "markdown",
   "metadata": {},
   "source": [
    "### Get the Genesis block and pretty print it"
   ]
  },
  {
   "cell_type": "code",
   "execution_count": 3,
   "metadata": {},
   "outputs": [
    {
     "name": "stdout",
     "output_type": "stream",
     "text": [
      "\n",
      "This is block #0, The Genesis Block:\n",
      "\n",
      "{'bits': '1d00ffff',\n",
      " 'chainwork': '0000000000000000000000000000000000000000000000000000000100010001',\n",
      " 'confirmations': 657053,\n",
      " 'difficulty': 1,\n",
      " 'hash': '000000000019d6689c085ae165831e934ff763ae46a2a6c172b3f1b60a8ce26f',\n",
      " 'height': 0,\n",
      " 'mediantime': 1231006505,\n",
      " 'merkleroot': '4a5e1e4baab89f3a32518a88c31bc87f618f76673e2cc77ab2127b7afdeda33b',\n",
      " 'nTx': 1,\n",
      " 'nextblockhash': '00000000839a8e6886ab5951d76f411475428afc90947ee320161bbf18eb6048',\n",
      " 'nonce': 2083236893,\n",
      " 'size': 285,\n",
      " 'strippedsize': 285,\n",
      " 'time': 1231006505,\n",
      " 'tx': [{'hash': '4a5e1e4baab89f3a32518a88c31bc87f618f76673e2cc77ab2127b7afdeda33b',\n",
      "         'hex': '01000000010000000000000000000000000000000000000000000000000000000000000000ffffffff4d04ffff001d0104455468652054696d65732030332f4a616e2f32303039204368616e63656c6c6f72206f6e206272696e6b206f66207365636f6e64206261696c6f757420666f722062616e6b73ffffffff0100f2052a01000000434104678afdb0fe5548271967f1a67130b7105cd6a828e03909a67962e0ea1f61deb649f6bc3f4cef38c4f35504e51ec112de5c384df7ba0b8d578a4c702b6bf11d5fac00000000',\n",
      "         'locktime': 0,\n",
      "         'size': 204,\n",
      "         'txid': '4a5e1e4baab89f3a32518a88c31bc87f618f76673e2cc77ab2127b7afdeda33b',\n",
      "         'version': 1,\n",
      "         'vin': [{'coinbase': '04ffff001d0104455468652054696d65732030332f4a616e2f32303039204368616e63656c6c6f72206f6e206272696e6b206f66207365636f6e64206261696c6f757420666f722062616e6b73',\n",
      "                  'sequence': 4294967295}],\n",
      "         'vout': [{'n': 0,\n",
      "                   'scriptPubKey': {'asm': '04678afdb0fe5548271967f1a67130b7105cd6a828e03909a67962e0ea1f61deb649f6bc3f4cef38c4f35504e51ec112de5c384df7ba0b8d578a4c702b6bf11d5f '\n",
      "                                           'OP_CHECKSIG',\n",
      "                                    'hex': '4104678afdb0fe5548271967f1a67130b7105cd6a828e03909a67962e0ea1f61deb649f6bc3f4cef38c4f35504e51ec112de5c384df7ba0b8d578a4c702b6bf11d5fac',\n",
      "                                    'type': 'pubkey'},\n",
      "                   'value': Decimal('50.00000000')}],\n",
      "         'vsize': 204,\n",
      "         'weight': 816}],\n",
      " 'version': 1,\n",
      " 'versionHex': '00000001',\n",
      " 'weight': 1140}\n"
     ]
    }
   ],
   "source": [
    "# Hash of the Genesis block is obtained first. \n",
    "blockheight = 0\n",
    "blockhash = p.getblockhash(blockheight) \n",
    "\n",
    "# Retrieve the block by its hash. 2nd parameter asks for a json object\n",
    "block = p.getblock(blockhash,2)\n",
    "\n",
    "# Pretty print the Genesis block:\n",
    "print(f\"\\nThis is block #0, The Genesis Block:\\n\")\n",
    "pprint.pprint(block)"
   ]
  },
  {
   "cell_type": "markdown",
   "metadata": {},
   "source": [
    "### Get the only transaction in the Genesis Block"
   ]
  },
  {
   "cell_type": "code",
   "execution_count": 4,
   "metadata": {},
   "outputs": [
    {
     "name": "stdout",
     "output_type": "stream",
     "text": [
      "\n",
      "The Genesis Block 0 has 1 transaction(s).\n",
      "The value of the only transaction in the block is 50.00000000 BTC.\n"
     ]
    }
   ],
   "source": [
    "# Element tx contains the list of transactions in the block (only 1, in this case)\n",
    "transactions = block['tx'] \n",
    "print(f\"\\nThe Genesis Block {blockheight} has {len(transactions)} transaction(s).\")\n",
    "\n",
    "# Get the value of the only transaction\n",
    "# Some convolution of dictionaries and strings needs to be accesed\n",
    "value = transactions[0]['vout'][0]['value'] \n",
    "print(f\"The value of the only transaction in the block is {value} BTC.\")"
   ]
  },
  {
   "cell_type": "markdown",
   "metadata": {},
   "source": [
    "### This is the message in hexadecimal"
   ]
  },
  {
   "cell_type": "code",
   "execution_count": 5,
   "metadata": {},
   "outputs": [
    {
     "name": "stdout",
     "output_type": "stream",
     "text": [
      "\n",
      "The secret message is hidden in the 'hex' field:\n",
      "01000000010000000000000000000000000000000000000000000000000000000000000000ffffffff4d04ffff001d0104455468652054696d65732030332f4a616e2f32303039204368616e63656c6c6f72206f6e206272696e6b206f66207365636f6e64206261696c6f757420666f722062616e6b73ffffffff0100f2052a01000000434104678afdb0fe5548271967f1a67130b7105cd6a828e03909a67962e0ea1f61deb649f6bc3f4cef38c4f35504e51ec112de5c384df7ba0b8d578a4c702b6bf11d5fac00000000 \n"
     ]
    }
   ],
   "source": [
    "# The 'hex' field has the message. \n",
    "# From hexadecimal we must convert it to ASCII\n",
    "msg_satoshi = transactions[0]['hex']\n",
    "print(f\"\\nThe secret message is hidden in the 'hex' field:\\n{msg_satoshi} \")"
   ]
  },
  {
   "cell_type": "markdown",
   "metadata": {},
   "source": [
    "### Conversion of the message to ASCII"
   ]
  },
  {
   "cell_type": "code",
   "execution_count": 6,
   "metadata": {},
   "outputs": [
    {
     "name": "stdout",
     "output_type": "stream",
     "text": [
      "\n",
      "The ASCII version of that hex is the following:\n",
      "b\"\\x01\\x00\\x00\\x00\\x01\\x00\\x00\\x00\\x00\\x00\\x00\\x00\\x00\\x00\\x00\\x00\\x00\\x00\\x00\\x00\\x00\\x00\\x00\\x00\\x00\\x00\\x00\\x00\\x00\\x00\\x00\\x00\\x00\\x00\\x00\\x00\\x00\\xff\\xff\\xff\\xffM\\x04\\xff\\xff\\x00\\x1d\\x01\\x04EThe Times 03/Jan/2009 Chancellor on brink of second bailout for banks\\xff\\xff\\xff\\xff\\x01\\x00\\xf2\\x05*\\x01\\x00\\x00\\x00CA\\x04g\\x8a\\xfd\\xb0\\xfeUH'\\x19g\\xf1\\xa6q0\\xb7\\x10\\\\\\xd6\\xa8(\\xe09\\t\\xa6yb\\xe0\\xea\\x1fa\\xde\\xb6I\\xf6\\xbc?L\\xef8\\xc4\\xf3U\\x04\\xe5\\x1e\\xc1\\x12\\xde\\\\8M\\xf7\\xba\\x0b\\x8dW\\x8aLp+k\\xf1\\x1d_\\xac\\x00\\x00\\x00\\x00\"\n"
     ]
    }
   ],
   "source": [
    "print(f\"\\nThe ASCII version of that hex is the following:\")\n",
    "print(codecs.decode(msg_satoshi, \"hex\"))"
   ]
  },
  {
   "cell_type": "code",
   "execution_count": 8,
   "metadata": {},
   "outputs": [
    {
     "name": "stdout",
     "output_type": "stream",
     "text": [
      "\n",
      "Thanks for your gift, Mr. Satoshi!\n"
     ]
    }
   ],
   "source": [
    "# Done. Goodbye. Pay some respects.\n",
    "print(f\"\\nThanks for your gift, Mr. Satoshi!\")"
   ]
  }
 ],
 "metadata": {
  "kernelspec": {
   "display_name": "Python 3",
   "language": "python",
   "name": "python3"
  },
  "language_info": {
   "codemirror_mode": {
    "name": "ipython",
    "version": 3
   },
   "file_extension": ".py",
   "mimetype": "text/x-python",
   "name": "python",
   "nbconvert_exporter": "python",
   "pygments_lexer": "ipython3",
   "version": "3.9.0"
  }
 },
 "nbformat": 4,
 "nbformat_minor": 4
}
